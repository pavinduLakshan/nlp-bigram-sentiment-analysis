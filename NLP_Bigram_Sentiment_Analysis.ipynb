{
  "nbformat": 4,
  "nbformat_minor": 0,
  "metadata": {
    "colab": {
      "name": "NLP Bigram Sentiment Analysis.ipynb",
      "provenance": [],
      "collapsed_sections": [],
      "authorship_tag": "ABX9TyO01Ayw0wkr05fjaqZDEOkB",
      "include_colab_link": true
    },
    "kernelspec": {
      "name": "python3",
      "display_name": "Python 3"
    },
    "language_info": {
      "name": "python"
    }
  },
  "cells": [
    {
      "cell_type": "markdown",
      "metadata": {
        "id": "view-in-github",
        "colab_type": "text"
      },
      "source": [
        "<a href=\"https://colab.research.google.com/github/pavinduLakshan/nlp-bigram-sentiment-analysis/blob/master/NLP_Bigram_Sentiment_Analysis.ipynb\" target=\"_parent\"><img src=\"https://colab.research.google.com/assets/colab-badge.svg\" alt=\"Open In Colab\"/></a>"
      ]
    },
    {
      "cell_type": "markdown",
      "metadata": {
        "id": "SvEDIWXZrxHq"
      },
      "source": [
        "## Environment setup and data loading"
      ]
    },
    {
      "cell_type": "code",
      "metadata": {
        "colab": {
          "base_uri": "https://localhost:8080/"
        },
        "id": "scC1zU_I4VIx",
        "outputId": "9965e7e8-5b7f-444c-9e6a-0ff5b25bc6c0"
      },
      "source": [
        "from google.colab import drive\n",
        "drive.mount('/content/drive')"
      ],
      "execution_count": null,
      "outputs": [
        {
          "output_type": "stream",
          "text": [
            "Drive already mounted at /content/drive; to attempt to forcibly remount, call drive.mount(\"/content/drive\", force_remount=True).\n"
          ],
          "name": "stdout"
        }
      ]
    },
    {
      "cell_type": "code",
      "metadata": {
        "id": "U7gfiFJe5hPN"
      },
      "source": [
        "import pandas as pd\n",
        "import nltk\n",
        "\n",
        "negative_comments_df = pd.read_csv(\"/content/drive/My Drive/nlp/dataset/negative_comments_dataset.csv\")\n",
        "positive_comments_df = pd.read_csv(\"/content/drive/My Drive/nlp/dataset/positive_comments_dataset.csv\")"
      ],
      "execution_count": null,
      "outputs": []
    },
    {
      "cell_type": "code",
      "metadata": {
        "id": "xWa4ippCAEr8"
      },
      "source": [
        "def tokenizeSentence(row):\n",
        "    tokenizer = nltk.RegexpTokenizer(r\"<s>|<\\/s>|\\w+\")\n",
        "    comment = '<s> '+row[\"comment\"] + ' </s>'\n",
        "    print(comment)\n",
        "    lowerCaseComment = comment.lower()\n",
        "    new_words = tokenizer.tokenize(lowerCaseComment)\n",
        "    return [str(word) for word in new_words]"
      ],
      "execution_count": null,
      "outputs": []
    },
    {
      "cell_type": "code",
      "metadata": {
        "id": "v3jxxSD4FQLI",
        "colab": {
          "base_uri": "https://localhost:8080/"
        },
        "outputId": "1ad1f06c-8d59-418e-aadb-74dac2f7bf1d"
      },
      "source": [
        "negative_comments_df[\"comment\"] = negative_comments_df.apply(tokenizeSentence, axis = 1)\n",
        "positive_comments_df[\"comment\"] = positive_comments_df.apply(tokenizeSentence, axis = 1);"
      ],
      "execution_count": null,
      "outputs": [
        {
          "output_type": "stream",
          "text": [
            "<s> Mokada yako sinhalen liyanne israilaye inna eun sinhala dannwadha anunge ledawal asse atha dannathiwa wadak naththam kuburakwath kotapiyau </s>\n",
            "<s> Wena ratawala prasna eun bera gani ape rate minissu beraganna balanna vesel vetharane balti nane dan jvp </s>\n",
            "<s> Ambulance buyyek ehema dakke nadda? </s>\n",
            "<s> Oya anunta kade yana unwa koheta hari yawanna bada boru kiyanawata hodak sedda wanna epa </s>\n",
            "<s> muta kawuda acharya pattama dunne </s>\n",
            "<s> Oya 5 nhe ne. pls Conta wela inna </s>\n",
            "<s> Ubalath ehema ne giya aanduwen monawa hari wadak patan gatthama ohoma ne ahuwe.. </s>\n",
            "<s> me kiyana widihata highway eka hadala thiyenne deshapaluwone..minissunge badu salli walin newei wage </s>\n",
            "<s> devi mathiniya obatumiya ratnapure maruna korona marana 5ta mokada une? </s>\n",
            "<s> Kalakanni. un Hariyata gewal asseth mask dagena innawa wage kathawa. pa#£@# </s>\n",
            "<s> Munge puduma loku kamak thiyenne.. me welawe kochchara minissu duk widinawada covid nisa .. parawal hadana eka hodai eth me welawe karanna oni owa nemeine. Owage yanna minissu ithuru wenna epai.. </s>\n",
            "<s> Thooo chiinetaa pukakaa dilaa magee rata kanna heduvoth mama thage sanvareetama sapakaranava ayee thopita manushya athmayak nethivenna denaganin china nemee americs ho indiya..can not tuch my cournty </s>\n",
            "<s> Rilaw ge athata mal maalayak dunna wage me pavithra peni mutti bhaandage athata sawkya amaanthyawa deela tiyenne... Me moda haraki langadee ma me rata winasha karala daai </s>\n",
            "<s> maranthika wasangatha kaale komis ganna wada karana hathikare. 69 lakshe paw ane. </s>\n",
            "<s> okkoma hare muga hate balahan. katusso kapu puusak waga </s>\n",
            "<s> sunami adara walata mokada une kiyala ingreesiyen ahanne kohomada? </s>\n",
            "<s> Ubala okkoma horu thuuu withrakkk </s>\n",
            "<s> Onna ohomai uneykotinge jayagrahayata rani kiriella john ravi wajiramangala madduma bandarala thamai kotinta jaya denna anika sarath fonseykawa langa thiyana rajithala prabakaran mahaththaya kiyanawa phelatama hodai kuhakayo kawadawath jaya ganne nehe ounta ath wenne avichi maha narakadiya Go to hell apita kiyanna eththe ochcharai </s>\n",
            "<s> Weerasekaraya kohenda bn paath uneee </s>\n",
            "<s> ara pakshetai me pakshetai kade giyata awasanedi hireta bath eka hari aran yanna inne amma withary </s>\n",
            "<s> 3n 2 ganna badurdeengei hakeemgei manthrila bagaddi sar epa wune nadda? </s>\n",
            "<s> Etakota fild Marshall sarath fonseka mukutma kare nadda? </s>\n",
            "<s> mewage dewal kiyana kalakannin ta daruwo kiyanne sampathk bawa notherena ekane pudume muge athdeka vinasha wenna one mewage amana katha liyana wata </s>\n",
            "<s> Kalakanni jvp paraya.yako kisima kenekta ohoma kiyanna epa. politics ube job eka. ipadenna enna podi daruwanta ohoma kiyanna epa. minissu wage wadagath deshapalanayak karapalla. Saththu wenna epa </s>\n",
            "<s> Nodakin kalakanni hathta thopita daruwo nada yako </s>\n",
            "<s> Palayan ban pariwakin boru pada sho noda </s>\n",
            "<s> Oya akarshana deela janathawa ayith mula karanna bariwewi janthawa awadthawa enathek iwasawi </s>\n",
            "<s> koi tharam respect porak unath deshapalanaya idiriye chartar wenna loku welawak yanne na.. </s>\n",
            "<s> sudu kodi kiyala hamudawa pawala dunna..dan lajja nathuwa badudin rakinnath enawa..mu nam kalawaddekma thama..neddakin..mu maha loku arakshakaya amati kale 97 parak kiyalama bombath gahala giya </s>\n",
            "<s> wedak na bro. me 225 innakan me rata jeewitheta goda enne na. Thiththa unath eththa eka </s>\n",
            "<s> oya wade hari kiyanawa newe..ehema baluwoth meyata kalin parlimenthuwe un tika hire danna ona neda dimuwo </s>\n",
            "<s> oyawage horunta awurudu 70k thisse rawaten gon buru minissunta thama nadu dala ula indanna one </s>\n",
            "<s> e koi paatath ekai bro. Rathu nil kola kaha me koi Patin awath me 225 yaluwo bro. Un innakan apita wenne hemadama hure dala chande deela anthimata hoollanna </s>\n",
            "<s> Hiway hadanne jeewath wenna bari asarana minissunta inna thanak dipallako parawal kannada thiyana ewa madida </s>\n",
            "<s> mulinma inna eka dakkama aye katha karanna deyak na </s>\n",
            "<s> Okkata aachara patama dunnu ekka kowda? Genapu thel tika vakkarala ookava gini thiyanda vatinava okkagey kathavata moosala thirisana </s>\n",
            "<s> kiyala wadak na deshapalana paliganeem.ha irisiyawa </s>\n",
            "<s> Me oyala apata kanna den neneda karunakarala denwath lockdown krla rata berala denna </s>\n",
            "<s> 5000 on time vatenava vage. duppath minissunta thamai ekath hariyata naththe.. </s>\n",
            "<s> Karunata kade yana ekek fonsekata baninawa puken hinaa </s>\n",
            "<s> matanan deshapalana un dakiddi le kopa wenawa... </s>\n",
            "<s> nisi kalata theendu theerana gatha nohaki palakayan bihiweema rate janathawage awasanawak </s>\n",
            "<s> ethakota rajayen kiyanne..ispirithala hadanawa andan hadanawa..hadisi thathwekata muna denna sudanam kiyala..borune kiyanne..aththa kiyanawanam minissu meeta wada parissan wei </s>\n",
            "<s> Hamudapathi thuma boru kiyanawa camp wala hotal wala adan thyanawa kiyala leddu bara gannawa kiyala </s>\n",
            "<s> Hena walin berenda beriwei. </s>\n",
            "<s> ado mokada e boru news dala rata apakeerthiyata pathkarana ngo dolar kukka </s>\n",
            "<s> Koheta liwwath wadak na anthimata rajapakshawaru chineta vikunanawane </s>\n",
            "<s> Tho pu...dena anduwata denwath aththa kiyanna kiyapiya api thamai hodatama kare kiya kiya he....nethuwa </s>\n",
            "<s> Ubala kade yanne minisunge salliwalin sohon hadapu ewuntane..ungen mehema ewa balaporotthu wenta baha </s>\n",
            "<s> Mun rajathanthrika kenekuta diya uthu araksawa danne nathi moda harak.oya sjb jeppoge mole tharama.yahapalana anduwa kale awa un giye pain wenna athi. apita mathakai un eke un uthurata aran giya hati. </s>\n",
            "<s> Mole thiyenne 3% kiyanna eka edath adath oppu wenawa </s>\n",
            "<s> Lockdown nokara monawa kalath me sare nam goda yannama ba </s>\n",
            "<s> wade awul wenna kalin neda oba thumalata theerana ganna thibune???dan ragapala wadak thiyenawada </s>\n",
            "<s> Naha kissi prasnayak naha habai bandagaraya hiswela </s>\n",
            "<s> mona palakayoda me.rate minissunta waha kanna dila gajamithuru set eka nadaththu karanawa </s>\n",
            "<s> ai bn me rate rajya yanthranaya karanna ona ewa hamudapathi ge aga udata dala palakayo atha pihadaganne </s>\n",
            "<s> samaharak pinata anduwen padi ganna nikan kaka bibi kale gewana unta lockdown jolly unata eda wela hoyan kana thamange deyak karala jeewath wena minissunta jolly naha </s>\n",
            "<s> sathi dekak rata wahuwoth arthike iwaray ekata palakayo asiyawe dana kuwerayo. rogaya mardanaya nokara adan wardanaya karanawa </s>\n",
            "<s> Kattiyata salli deelada bn mekata hoda comments dammanne </s>\n",
            "<s> Onna Jeppo titakai Booru putha ge set ekatai hombata dekak anala pattatakata karamu ayyee </s>\n",
            "<s> wihiluwak wennathuwa inna try karanna...chandaya bhawitha krapu apith obathuma gana kalakirila inne </s>\n",
            "<s> Amathi. Thumani. Rohalata. Eco. Macin. Akak. Labadenawanam. Godak. Pin </s>\n",
            "<s> joke film ekak balanawa mita wada hodai </s>\n",
            "<s> Api niwasa nayak illala dan masa ganak giya tawame na </s>\n",
            "<s> surangana katha tikak ahaganna puluwan </s>\n",
            "<s> Muta samanya denimawath nehene mehema untada mewa denne </s>\n",
            "<s> kattiyagema wal baila ahala epa wela thiyenne..parlimenthuweth maragena TV ekatath awith mara gannawa </s>\n",
            "<s> Mallita dila paduwe karanna giyanam narakada ranila wage elonakm inne nethiwa </s>\n",
            "<s> deshapalana wiwada yanu thamange aandu kalaye waradi thawath kalayaka wipashaye sita sadaaranaya karana hora thakkadiyange sonduru nawathampalayi api therum gena sitimu </s>\n",
            "<s> deshapalane nokara amathikama karanawa nam wadagath kamak penawa nattan kata ariya gaman nugath gonkama penawa </s>\n",
            "<s> ratawiruwo kiyala label gahala. korona welawe nirodayata dawasata rupiyal 6000 ta wada gatta </s>\n",
            "<s> aanduwa hadala wadak naha mahaththayo..hoda ratak hadanne nathuwa </s>\n",
            "<s> me hayya okkoma aran ratath hadanna puluwan nam hodai neda </s>\n",
            "<s> Prasanna Ranaweera Oya tikak Sanwara unoth hondai parliament aka athule..... </s>\n",
            "<s> Awasya wanne andu hadana un nowa rata hada jathiya beraganna saha deshapalana horungen rata gawana ayai..Awrudu 72 k kalakanni hadapu rata tamai me ituruwela tiyenne.. </s>\n",
            "<s> Oya pattama lamayekuta denna sir.lajjai </s>\n",
            "<s> boru kaiwaru epa. owa hodai minissu baya karanna...basil idala nemeda kalin peradune?Owa kiwwama minissu hithanne wena kawruth ne kiyala...patta marketing thama ithin. </s>\n",
            "<s> Eka thamai kiwwe lockdown karanna kiyala...Dan illagena Kala inne </s>\n",
            "<s> aanduwak haduwata wadak naa minissunta inna surakshitha nayanathi ratak hadanne nathuwa </s>\n",
            "<s> unge daruwantath me rata nathi wunata aulak na jarawa kala aththe parampara ganakata athiwennama </s>\n",
            "<s> Mehema weddo innawanam ay ugaththu rata dala gihin wenaratawal diyunu karanna yanne.Meyala hithanne eyala nethinam lankawa zero kiyala.wena kenekuta udata Enna denna balanna . </s>\n",
            "<s> Thawath humthak kiyanwa </s>\n",
            "<s> parlimenthuwa masayak wahuwoth e salliwalin...ekko kiyala wadak na </s>\n",
            "<s> uba wage manussa jeevitha wa watina kama danne nathi ballo mama dakkamai ubata lamai nadda </s>\n",
            "<s> Ownwa allala kanna bonna nathiwa kuudu karanna okne </s>\n",
            "<s> sajith gon katha kiya kiya innawa rathatha hina ghuwath kamak ne miwage vipathak lankawatha.vila tiyeddi pisapalani magulin wedak ne hemoma shayogen ratha bira ganna oni vipasse karanne anduvi weradi kiya kiya uduburulanna vitharay </s>\n",
            "<s> awurudu kale natanna thiyana keli okkoma natala meke comment karanne sudana pakeerla wage </s>\n",
            "<s> Edan neweyi den pettithamo hadann wenne.oy okkma kalin karanm den edan hadann one kiyla therennedda </s>\n",
            "<s> Hmboyo oba innawanm inna tenaka kata wahagena edapan </s>\n",
            "<s> comment dakkama therenawa 225ma witharak neme awula kiyala </s>\n",
            "<s> mechchara kalekata icu adan 700yi hitapu aandu dan aandu apata dila thiyenne...dan minissunge sahana pathanna wela..hora kapu ewagen minissunta oni deyak karanan ada mehema wenne na </s>\n",
            "<s> Rate samahara un nikan kanna bonnaa balan iddi rate palakayoooo ekkamaa witharak diyunu karanna puluwan wey kiyalaa hithanawadaaaa...issellaaaa negitalaa weda karalaa hambaa karannaa purudu weyallaaa..ethakotaa rataa nikanmaaa godaa yanawa </s>\n",
            "<s> Me janadipathith pana madi wage dadi teerana ganna </s>\n",
            "<s> YANAVA BALANAVA KRAMA SAHA VIDI GENA KIYAVENAVA. VESSA GAMAN NEVATHA YATA VENAVA MOKADA AMKATHITHUMO MEHEMA VENNE </s>\n",
            "<s> Dimuwa wage third class GU kana pol kudu higanna ethin swamiyage 5000 kikaru wenna epai.nethnam okage paulama badaginne. </s>\n",
            "<s> wayase weradda mahallo rata palanaya karanakota oya wage mole nati mari moda kata balaporthtu wanna </s>\n",
            "<s> Mole tyna minissu mole nathi harak dinewwama ohoma wenva ithn. Krann deyak na </s>\n",
            "<s> Naki hampadayanwa parliament yawapu mee harak... </s>\n",
            "<s> rate palakayan desa balu wita janathawa gana da therum gatha hakiya </s>\n",
            "<s> Kavda muta porak kiyana gobbaya </s>\n",
            "<s> Ubala wage tamai etin salli wenuwen one deyak karanwa </s>\n",
            "<s> korai owa men kiyala deshapalakayone </s>\n",
            "<s> Janathawata kiyana de sar danne nedda?? issara siranam paththaren hari denagaththa </s>\n",
            "<s> dan yudde gana hamadama katha kara kara inne nathiwa rate dan thiyana dewal walata wisadum sewwa nam hodai neda uncle </s>\n",
            "<s> niyama nayakaya tawa tieka dawasakien.oyala diewyaloka yawanawalu </s>\n",
            "<s> Janathava duppath vena tharamata desapalakayanta sepa Vadi </s>\n",
            "<s> gon heththak inne.......anith un duk widino mun hinda </s>\n",
            "<s> mokut kiyann ba bng giyasare dammikyata kiyala report gahala acc ek beragatte bohoma amareuwen budu report togayak gahala tibbe </s>\n",
            "<s> eka hdai penawane 72k thisse thama sanwardhanaya wenawa </s>\n",
            "<s> dakmak thibiya yuthui. api thama hodata kore gawata wadak na </s>\n",
            "<s> minissu higa kanawa inda niwasak na bonda watura tikakna ahasa usata jeewana bara horakanda parawal hadanawa. </s>\n",
            "<s> Nandasenaya awata passe payakata naya koti 25i... awlak na ubala kala adala innet ewain ne </s>\n",
            "<s> mewa ethanol joniyage salli nowe rate ahinsaka minissunge lunu ate parippu ateta badu gahala ekathu karapu salli.mokada uge salli walin page karayo wikununata rata gana hithana minissu wikinenna </s>\n",
            "<s> ow wathura galuwama parawal ona rataka kadenawa...wenasa e ratawal wathura bassa kshanikawa para hadanawa..api ilaga chande enakn balan innawa </s>\n",
            "<s> Ehenam ubala kohomada sepa vidinne American politician latath wada.. </s>\n",
            "<s> ithin yako mokatada oya election eka thibbe. oka notiya mutama oka dila thibbanam okata giya wiyadamath ithuruine. neddakin </s>\n",
            "<s> Pissu kwadwath eahma kranna nha </s>\n",
            "<s> mun kanne cricket kiyala mathakweddi sathuta wadikamata bat eke mita kawa </s>\n",
            "<s> Buru katha nokiya gedara idan karanna puluwan rajaye job kiyak thiyanawada hoyala kiyapan.gon nandeta kade gihillama buruwek wela mu </s>\n",
            "<s> adyapanaya mokatada harak palanaya karanna </s>\n",
            "<s> ai oye lankawe nemeida inne..danne nadda me vaccine ekath dana adunumkam walata gassala denawa kiyala </s>\n",
            "<s> angoda inna one manasika leddu ape rate gon harakunge waradin inne kabinat eke </s>\n",
            "<s> Mun okkoma yaluwo malli </s>\n",
            "<s> me udagu palakayanta me rata thibena thathwayen goda ganeemata kisidu wadapiliwelak naha.. </s>\n",
            "<s> ane uba danna malahathillawwak naha ballo </s>\n",
            "<s> mun pathwunath ekai nathath ekai wenasak nane.oya thanathuru tika dipiyaw gowiyanta </s>\n",
            "<s> Ara tsunami yata giya relparath standad ekata hadala nadda koheda tsunami yata parawal kiyak giyada mun dakke nadda dan na </s>\n",
            "<s> Minissu marenakamdainne mafam </s>\n",
            "<s> Owa kiyana katwal kapiyau rata kapu jara minissu </s>\n",
            "<s> Mekige bella mirikanna one </s>\n",
            "<s> Okawa hitiyanam melahakata marana 50000 vithara wela </s>\n",
            "<s> rate ahinsaka janathawata pilika hadila dukwidala malath kamak naha meyalata company posath karala. janathawata kiyan mona jathiwalada pilika karaka thiyenne kiyala </s>\n",
            "<s> Me wage unta thamai Corona hadila marenna oni </s>\n",
            "<s> Mun dana kuwerayan rata duppath </s>\n",
            "<s> janathawage depala hora kana un echchara ikmanata marenawanam rajapakshala paramparawa nathiwela godak kal wenawa </s>\n",
            "<s> meya hithagena inne thamath eya amathi kenek kiyala. e asaneepeta gahanna vakseen ekak nadda? </s>\n",
            "<s> rate depala wikunanne na kiyala sir la awa. ko nawaththuwada </s>\n",
            "<s> Muwa aran yanna barida hangapu mona hari hoyanna kaalakanni musalaya </s>\n",
            "<s> Patta huttiyo..thopi nisa tamai rata ballata gihin tiyenne.mata ahu unit thowa kapala maranawa belli </s>\n",
            "<s> ape chandadayakayo kiyana gobba marimol mati harakge prarathipala thama oya </s>\n",
            "<s> duppath une thopi horaa kaapu nisa. </s>\n",
            "<s> ko ban ithin owa karapu unta wiruddawa gaththu piyawara nikan minihek horen badaginnata pol gediyak horen kaduwath masa ganan hire dana rate meyala ohoma karala thama nidahase innawane ko ara kiyapu eka ratak eka nithiyak kiyapu eka </s>\n",
            "<s> dayage pakko ekata baninneth janadhipathita kohomada wahalkama </s>\n",
            "<s> awurudu 73 rata palanaya kare horu kandayam dekak </s>\n",
            "<s> Dan ethokota apeda waradda??Ai nithiya kriyathmaka karanne bari??Apida ethokota nithiya kriyathamaka karannath ona...Perahara giyata passe adum adala wadak naa... </s>\n",
            "<s> waradi karala nattan ai oya widihata baye hangenne </s>\n",
            "<s> meke nahayen adan nathuwa sirta kiyapan nadu dala ewa ganna kiyala.. </s>\n",
            "<s> Patta horu bang samnya janathawage le ura bona satthu mung deshapalanayata enna pukath dei </s>\n",
            "<s> Ekanam saratama dila post eka damme moka inat maha gonek </s>\n",
            "<s> ochara dannawa nam okawa hire dannathuwa apita kiyala wadak na. horu allanna neda awe 69 chande dunna neda? dan korana ona apida </s>\n",
            "<s> ugathun buddimathun goni gananin athi me samajaya thula oba wani nirmanasheelee daksha rijuwa ilakkayak kara gaman karana amathyawarayeku gana apata aththe nihathamani adambarayak saha wishwasayak </s>\n",
            "<s> piliwelakata karagena yana obe saukya arakshawa pilibanda wadapiliwela ithamath ageyi..sthuthiyi hadawathinma </s>\n",
            "<s> Mama obathumiyata 1994 Indan manapayak denne paakshika gaurawaya saha abhimaaya nisaie eeth kawadawath obathumiya munagehila kathakalla udu illala nee. obathumiyata deergayu weewa </s>\n",
            "<s> oba niyama deshapalakayek.oba gamana yana widiya niwaradiyi.piliwelai.prasannai </s>\n",
            "<s> attatama amathi thumata labunu amathyanshaya merata karmantha karuwanta hoda shakthiyak wewi. memagin wideswalata yana mudal wishala lesa merata thula ithiri karagatha hakiyi. paramparika karmantha thawathawath diunu karannata shakthiya diriya labewa </s>\n",
            "<s> oba pragathishili deshapalakayek. hadawathin ma obata jaya pathami </s>\n",
            "<s> lokayama asarana wee sitina mohothaka kanthawak lesa oba dena nayakathwaya agaya karami </s>\n",
            "<s> deshiya arthikaya nanwaleemata oba darana uthsahaya sarthaka wana bawa mage wishwasayayi </s>\n",
            "<s> Sir obathumata dirgausha pathannemu </s>\n",
            "<s> Thanks you manthree thuma .Excellent explanation.. Please keep doing it... so we keep trust on you... and we admires the job you do in your ministry... </s>\n",
            "<s> Ahinsaka janathawage prayogika gatalu hndin awabodha karagana thama wishaya pathaya thula kriyathmaka wena obathumata jayen jaya.. </s>\n",
            "<s> oba tumiyata karanna puluwan de oba tumiya uparimayen karanawa oba tumiyata istuti </s>\n",
            "<s> obagen wiya yuthu yuthukam niwaradiwa itukireema gana sathutui.. </s>\n",
            "<s> janathawa samaga sitina janatha apeksha hadunana obathumata mage upaharaya.. </s>\n",
            "<s> obage karunu idiripath kireema itha usas mattamin sidukala </s>\n",
            "<s> Mata puluwanda oba thumiya samaga onama nalikawaka viurtha sanwadayak pawth wanta </s>\n",
            "<s> ape amathi thumata budu saranayi siyalu dewiyangema pihitai me karana sewayata </s>\n",
            "<s> Budusaranai nawa adasvalata sudapatum samaga saktiya labawa </s>\n",
            "<s> Kalaniya vidatha sampath maddayas tanayat loku sewayak kala viwasayaka apita </s>\n",
            "<s> Theruwansaranai obathumata </s>\n",
            "<s> obathumage wada piliwelata sahayak wenna wagema api ape hithawathun wasa wisa kana eken loha warga shareerayata daganneka nawaththanna me para awuruddata thagi dunne gewalwalata aran giye mati athili </s>\n",
            "<s> kohomada meyage wada okkoma hina una dan lankawe prasiddha wadipura wadak kala amathithuma una thamanta dena wade nisiparidi kala yuthuyi. adarshaya eyayi </s>\n",
            "<s> mama kamathima charithayak sir oya </s>\n",
            "<s> Ada thamath e dawasa matakai.....Theruwansaranai obathumataAPI bukthi wedina me nidahasa gana kawara kathada....biyen shaken Thora ratak dun oba samata dhaswarayak adaraniyawa shipath karanawa.... </s>\n",
            "<s> niyameta wade una..thawa thawath mewani wada satahan sarthakawa kireemata hakiwewa. jayawewa </s>\n",
            "<s> kamkaru dinayehi pamanak nowa dina 365ma janathawa wenuwenma katayuthu karana nayakaya </s>\n",
            "<s> oba ithamath hodin wiwadayata muhuna dena athara oba apa anduwe wishwasawanthama kapaweema uparimayen karana amathiwarayek bawa danimu. jaya shri </s>\n",
            "<s> Obatath ratatath Jaya wewaa! </s>\n",
            "<s> amathithumani obata jaya </s>\n",
            "<s> obathuma yana gamana thawa thawath shakthimath wa idiriyata yamata wasanawa labewa kiyala prarthana karanawa </s>\n",
            "<s> Ahinsaka janathawage prayogika gatalu hndin awabodha karagana thama wishaya pathaya thula kriyathmaka wena obathumata jayen jaya.. </s>\n",
            "<s> yodashakthiya dairya labewai kalani mahajanathawage ashirwadaya kalani bosamindu pihitai amathyathumani </s>\n",
            "<s> oba labu chanda balaya oba apathe noya gamanak yamata uthsaha karana bawa manawa pahadili we namuth obage uthsahayata abhiyoga paminenu atha </s>\n",
            "<s> pohottuwe maha mola karu obathumata suba upandinayak wewa </s>\n",
            "<s> Obawani nauakaing ratakata lokusampath </s>\n",
            "<s> Wijedasa hoda kebek hambantota cas ekata naduth damma </s>\n",
            "<s> gramasewaka unata kohomada dakma..oya dakma dabulla market ekata thibunanam kohomada rajya adayama..wishishtai hitapu janapathithumani </s>\n",
            "<s> rata beraganeemata haki siyalu de karanna api oba samagai. theruwan saranai </s>\n",
            "<s> obathuma garu adhikaranayata gos ape rata wenuwen mekarana sewayata isthuthi obata chandayadun janathawata meyin yahapathak kala kiyala api hithanawa </s>\n",
            "<s> dura dakina obathumata ape gaurawaya </s>\n",
            "<s> me horu panna hari widihata rata godanageemata obathumanta shakthiya dairya labewa </s>\n",
            "<s> garu wijedasa mathiduni oba thuman edath sathyayata hisa namuwe. adath obaesemayi. oba thumanta jayen jaya </s>\n",
            "<s> Aanduwe inna kondak thiyana ekama miniha. Obathumata jayawewa </s>\n",
            "<s> jaya wewa yugaye awashyathawaya oba wage ugathun buddimathun misa puhu atopa manda buddikayan nowe </s>\n",
            "<s> budu saranayi sir. mewan da idiriyatath karagena yamata oba thuman hata theruwan ashirwadaya saha kayika manasika suwaya labewa </s>\n",
            "<s> api dannawa oba kisida balayata ho dhanayata perethayeku nowana bawa. e nisama thamai api oba samanga nithara sitinne. api obathumagen balaporoththu wana ekama deya yukthiya saha sadharanaya itukireema pamani. obata sthuthiyi </s>\n",
            "<s> oba thuma prakasha karapu hamadeyakma aththa. man hadawathinma kamathiyi oba thuma wage kenek rate janadhipathi wenawata </s>\n",
            "<s> Budusaranai nawa adasvalata sudapatum samaga saktiya labawa </s>\n",
            "<s> obathuma ratata pamanak nowa lowatama sampathaki.hadawathata ekangawa jeewathwana minisum adu lowe obathuma shreshta miniseki </s>\n",
            "<s> janadhipathi kamata ithamath sudusu ayeki. methuma e sandaha idiripath wanne nam siyalu denagema sahayogaya labenu atha. </s>\n",
            "<s> nidahas adhyapanaya rakagatha yuththe aydayi oba arthawath karai.ratata awanka mehewarak kireemata shakthiya ha balaya labewai pathami </s>\n",
            "<s> mage mathru bhumiye wada karana aadaraneya janathawata jaya wewa </s>\n",
            "<s> oba wani ugathun ape mathru bhumiyata wasanawak..oba thumata theruwan saranayi </s>\n",
            "<s> baiyo toiyo jeppo kiya kauruth natha. e apima ape wahalkama nisa apitama alwagath lebalayak. oba niwahal wanna. nidahas pudgalayaku lesa rata saha obeth obe daruwageth anagathaya wenuwen obe chandaya sudusu pudgalayekuta denna.pakshayakata nowe.oba chandaya diya yuthu sudusu pudgalayatai </s>\n",
            "<s> nam gahili na. sadda na. kaiwaru na himita athyawashya wada </s>\n",
            "<s> rata parihaniya kara piya nagana welawaka rata wenuwen oba thumagath theeranaya agaya karami. obata saha ratata jaya. </s>\n",
            "<s> nihada nayakaya obai adatath minis hadathula sitina </s>\n",
            "<s> wipakshaye niyama wadak. niyamai SJB </s>\n",
            "<s> ahinsaka wakugadu rogin wenuwen idikarana lada wakugadu rohalama athi obathumata. ikmanin ehi katayuthu arambhayata awashya katayuthu pelagaswannatath nayakathwaya ganna lesa illami </s>\n",
            "<s> sinhala jathiya konda kelin thabagena sitinne oba thumage nayakathwaya nisai </s>\n",
            "<s> ethuma thamange jeewithayata wada rajakariya uthumkota salakapu kenek. ewani aya itha durlabayi. ethumananta niwansuwa ath wewa </s>\n",
            "<s> hamadama agama issarahata dagena jathiwadaya awussala minissu marewwa </s>\n",
            "<s> jathiye pranamaya himiwiya yuthuyi. ethumata niwan sapa labewa </s>\n",
            "<s> desha palana paksha pata kumak wuwath oba thumage samahara gathi guna aadarshamath. piyaneni suba aluth awuruddak </s>\n",
            "<s> korona wasangathaya hamuwe nosali thama rajakari itukaranu labana wada karana panthiye saba wiruwanta uththamacharaya </s>\n",
            "<s> ape nayakathuma athulu pawule siyaluma denata labuwa nawa wasata siyaluma balporoththu ituwana wasanawantha wasarak wewa </s>\n",
            "<s> rate mathu anagathaya wenuwen sudusu awasthawedi theerana gath oba thumanta mage pranamaya </s>\n",
            "<s> dakmak athi 2025 ape niyatha janapathi garu wijedasa mathithumani jaya sri </s>\n",
            "<s> Garu agamathi thumage kriyakari deshapalalana jeevitayama janatha sevayata kapa Kara hamarae.dalada samidu pihitae </s>\n",
            "<s> angasampurna wakugadu rohalak hada mahajanathawata kala sewaya. rasayanika beheth pohoro palanya kireema me wage uthum dewal karapu oba thumata suba anagathayak </s>\n",
            "<s> gammak thama bro. sir ta wada oya gamma </s>\n",
            "<s> pampori nathi. nahayen adannathi nihada minisa </s>\n",
            "<s> e adaraya nirahankarakama saralakama hamadetama wada e sinahawath ekka thibuna manussakama as deken dakala thiyenawa. oba depalata niduk nirogi dheergayu wewai hadawathinma suba pathanawa </s>\n",
            "<s> kohoma wethath me manussaya wadagath sewayak polonnaruwata karala thiyenawa </s>\n",
            "<s> obathuma rate anagathaya bara gatha yuthu nayakathwayak. gotabaya janadhipathi thumangen pasu kisidu pakshayaka nayakathwayak penna na. </s>\n",
            "<s> awanka nihathamanee minissu hadunaganna owun perata ayuthumayi </s>\n",
            "<s> obathumiyage sewayata api garukarannemu </s>\n",
            "<s> pasku praharaya wela minissu siya ganak marunama hina wewi madya sakachja thiyapu amathi kenek hitapu rate janathawa wenuwen seth patha pirith pan ihapu oba apita uthum </s>\n",
            "<s> mona adupaduwa thibunath ratata parisarayata adare karapu mahathmayek </s>\n",
            "<s> pakshaya adala nathi hari paththe hita ganna kondak thiyena manusayek. aluth gamanak yana hoda pasu pelak nirmaya karanna. jaya </s>\n",
            "<s> Oba tumata dirgayusa suda patum . Ati garu agamati tumani. Jesu phitay. </s>\n",
            "<s> kawuru monawa kiwwath obathumiya yana gamana niwaradiyi rata wenuwen me welawe kala yuthu de karanna obathumiyata saman dewi pihitayi </s>\n",
            "<s> obathumiyata waradinne natha. palamu korona kalaya sema deweni waratath nagi sitinna. jaya wasanawa prarthana karami </s>\n",
            "<s> oba awanka charithayak. api obathuma gana boho de dannawa. aniwaryenma. oba ilaga janadhipathi wanna awasthawa sadaha sudanam wanne nam obata ape siyaluma sahayath rate janathawa obata sahaya dakwanawa aniwaryenma. dan hodatama athi 212 elawanna kalayayi lankawe tharuna tharuniyanta mewan awadhiyak uda karanne nam owun lada wasanawayi. </s>\n",
            "<s> methuma aththatama ratata janathawata adaraya kala karana horakama nathi ayek </s>\n",
            "<s> obathuma tharam sri lanka nidahas pakshaya shakthimath kala wena nayakayek na </s>\n",
            "<s> ma dutu awanka ha winayagarukama janadipathi. me wage janadipathi kenek aya kawamadakawath bihi wenne na bihi wuneth na. mohuge age thereyi thawa nobo kalayakin </s>\n",
            "<s> gamana subai jaya niyathai ape janadipathithumani jaela asanaye api nithathinma oba samagayi </s>\n",
            "<s> kumana gatalu thibunada bhashanaye nidahasa hodinma laba dun ekama nayakaya </s>\n",
            "<s> jayawewa janapathiduni mulu ratema janathawata obawa awashyayi </s>\n",
            "<s> ape adaraneeya pakshaye nayakayaneni rate anagathaya oba depala samaga peratama </s>\n",
            "<s> monawa kiwath oba manawayata age athi de kala nayakayek. uthurumada piripahadu jala wyapruthin. anuradhapura wakugadu ekakaya. polonnaruwa wakugadu rohala. sinharaja gasat pathraya ratata dayada kala amila wasthun. thawa athi mathaka na </s>\n",
            "<s> ape kalaye wihara mahadewi moka monawa kiwwath oba thumiyata nosali idiriyata yanna budu saranayi </s>\n",
            "<s> aai aswahak katawahak na siriyawantha joduwa.polonnaruwe minissu adatath obe hoda kiyanawa </s>\n",
            "<s> 2015 di obata dun chandaya gana adatath adambara wemi </s>\n",
            "<s> wahal bhawayen sri lanka nidahas pakshaya bera gath niwahal nayaka thumani janathawa oba samagai </s>\n",
            "<s> obathuma mawubimata ratata jathiyata gahakola satha siwupata adare jathika nayakayeku bawa pahadiliwama kiyanna puluwan janadhipathi thumek. </s>\n",
            "<s> jara deshapalana gohoruwe wadagathkama thiyagena hitapu ekama nayakathuma oba depalata theruwan saranayi </s>\n",
            "<s> kaurun kese kiwath sathya washayen parisarayata adaraya kala jana nayakaya oba ma pamani </s>\n",
            "<s> oba thumata bohoma sthuthiyi. api wenuwen punchi satahanak thabuwata </s>\n",
            "<s> andu pakshaye inda anduwema waradi walata konda pana athiwa nirbheethawa handa nagana obathuma gana adambarayi </s>\n",
            "<s> theruwan saranayi. dirgayusha labewa. obathuma sambuddha shasanaye diyunuwata kala sewaya lakdiwa bududahama nathiwunath pawatheewi </s>\n",
            "<s> obathuma tharam kelin theerana gath nayakayek thawamath na idiriyedith na kiyala me wenakota pennum kara hamarai </s>\n",
            "<s> hewahata wishala mehewarak kala jana nayakathwaya </s>\n",
            "<s> madya nidahase saha bhashanaye swarnamaya yugaya obe yugayayi </s>\n",
            "<s> parisarakamee parisaraya rakaganeemata katayuthu kala obathumata theruwan saranayi jayawewa </s>\n",
            "<s> manushyathwayen piri saba jananayakayanani obata thuthi </s>\n",
            "<s> mage lankawata jaya wewa </s>\n",
            "<s> MAITHRIPALA mathiduna oba thuma wadi karapu kamkaru padiya Lanka ethihasa RAN AKURIN LIYAWEVI A warthawa kadanna puluwan obata ma pamani obata DIRGAU </s>\n",
            "<s> madhya nidahasa labadun janadhipathiwaraya lesa obathumama e dawasa sihikaramin satahanak thabeema apurui. </s>\n",
            "<s> Ape uththamacharaya api mese puda karamu Mr Fonseka obathumata jayawewa </s>\n",
            "<s> sri lankawatath obathumawa awashyama mohothak. nawa jeewayak panak denna atha ussala karakila </s>\n",
            "<s> parakramabahu rajathumagen pasuwa polonnaruwata nawa jeewayak laba dun obathumata godak pin </s>\n",
            "<s> theruwan saranai obata garu amathithuma oba wani minisun ratatath apitath sampathaki jayawewa siyaluma balaporoththu ituwe jayawewa jayawewa </s>\n",
            "<s> athalossak unath obathuma kere aseemitha adarayak dakwanne e nisai sir obata budu saranai </s>\n",
            "<s> obathuma rata baragena karanna budu saranayi yahapathakma wewa </s>\n",
            "<s> obathumage kale thamai madya nidahasa uparimayen thibune. sthuthiyi </s>\n",
            "<s> kuriru yuddhaya nimawana awasthawedi merata wadabalana arakshaka amathyawaraya lesa katayuthu kala obathumatath gaurawaneeya sthuthiya puda karami </s>\n",
            "<s> parisara hithathi hoda barakaruwek. name arthayenma sithiwili hoda pinaththek </s>\n",
            "<s> ratata minissunta adare karana nayakayek washayen 2015 kala wiplawaya ha samana. ita wada yahapath prathirupa deshayak goda nagannata shakthiya dhairya labewa </s>\n",
            "<s> chiran jayathu nayakayanani </s>\n",
            "<s> monawa nathath kapakireema agayanawa me yuddaya awasan kireema udesa </s>\n",
            "<s> ethuma.thamai nuthana dutugamunu kawadahari lankawa eksesath karana nayakaya. hadawathinma suba pathanawa ethumata </s>\n",
            "<s> kotharam ninda apahasa mada gahuwath upekshawen e siyallata muhuna dun ape nayakathwaya.jayawewa. </s>\n",
            "<s> me wana parisara winashayata erehiwa nagi sitimata obatumata shakthiya labewa </s>\n",
            "<s> obathuma wasen wisen apiwa bera ganna uthsaha kala ekama hoda anagatha yojanayak </s>\n",
            "<s> theruwan saranayi siyalu prarthanawan ituwena janathawage balaporoththu thawa thawath itukaranna shakthiya wasanawa labena suba aluth awuruddak wewa </s>\n",
            "<s> sirimawo mathiniyagen passe obathuma wa pamanayi loka nayakathwayen piligaththe </s>\n",
            "<s> mona unath anith ammandila tika ekka baluwama oba thumata inne biridak newe wasthuwak </s>\n",
            "<s> mama oba thumage parisara prathipaththiyata kawadath garu karami </s>\n",
            "<s> wachanaye parisamaptha arthayenma athigaru janadhipathithuma lesa oba handinwiya hakiya </s>\n",
            "<s> lokka mona wunath parisareta adare kala. respect </s>\n",
            "<s> suba aluth awuruddak wewa. amathithuma pathwunama mati amathi kiyala obathumata madagahapu unma ada gaurawa karana eka gana sathutui </s>\n",
            "<s> obathuma sinharaja wanantharaya wishalakarala gasat karapu eka wishala pinak </s>\n",
            "<s> iitath wada ingreesi anduwa wisin deshadroheen karapu weerayanta nisi watinakamak labadeemada agaya karami </s>\n",
            "<s> monawa nokalath obathuma parisaraya nam araksha kala </s>\n",
            "<s> kauru monawa kiwwath obathuma asarthaka nayakayek kiya ma nosithami </s>\n",
            "<s> Suba upan dinayak wewa oba thumiyata </s>\n",
            "<s> next time obatumata chande denwa. rajapakshala epa. gon putanoth epa </s>\n",
            "<s> mawbima dinewa wadath niwaradi minissu asurata labewa budu </s>\n",
            "<s> thunkal dutu apage piyanani me kusala karmayama athi niwan dakeemata </s>\n",
            "<s> obathuman ge idiri deshapalana jeewithayata jaya niyathayi samastha lanka swayan rakiya samithi sammelanaye suba pathum </s>\n",
            "<s> mona unat oba ratata agamata anagatheta wadak kala kiyala danno  </s>\n",
            "<s> Sebe desappremiyeki oba...eya ma hodinma danna karunaki.rate kisiwak wikinimata oba ekanga uye matha.ewakata hitapu agamathige kakulen adimath ohu andu pakshe indan wipakshaye uwamana itu karapu hatith apata thaama hondata mathakai </s>\n",
            "<s> kata kohomaunath manussakama danna dennek madam godak hoda kenek </s>\n",
            "<s> ratata awasi ape kalaye nayakayano obata jaya sri ma bo samidu pihitayi arakshawayi </s>\n",
            "<s> e athin nam oya great wilpaththuwa kapana eka nawaththaganna bari wunata aduma gane wananthara tika parissam karanna adala gasat tika hari gahuwane </s>\n",
            "<s> rewatunu minisunnta den tika tika theremin pawathi.Saththya jayagani.Jayawewaaa.Budusaranai </s>\n",
            "<s> me rata karapu janadhipathi warungen parisaraya ganath manawa wargaya ganath mul kota salaka kriya kala adarshamath rajya nayakaya obai. anna ekai api obathumata adare </s>\n",
            "<s> samastha manawa wargayage sita satha siwpawun athulu mulu mahath wananthara paddathiya udesa kapawu saba jana nayakaya obayi </s>\n"
          ],
          "name": "stdout"
        }
      ]
    },
    {
      "cell_type": "code",
      "metadata": {
        "id": "yoJ5Tx3OHbXR"
      },
      "source": [
        "positive_train = positive_comments_df.sample(frac=0.8,random_state=200).drop([\"0\"],axis=1)\n",
        "positive_test = positive_comments_df.sample(frac=0.2,random_state=200).drop([\"0\"],axis=1)\n",
        "positive_train = positive_train.reset_index()\n",
        "positive_test = positive_test.reset_index();"
      ],
      "execution_count": null,
      "outputs": []
    },
    {
      "cell_type": "code",
      "metadata": {
        "id": "Ce1mOWLzKZTm"
      },
      "source": [
        "negative_train =negative_comments_df.sample(frac=0.8,random_state=200).drop([\"0\"],axis=1)\n",
        "negative_test = negative_comments_df.sample(frac=0.2,random_state=200).drop([\"0\"],axis=1)\n",
        "negative_train = negative_train.reset_index()\n",
        "negative_test = negative_test.reset_index();"
      ],
      "execution_count": null,
      "outputs": []
    },
    {
      "cell_type": "markdown",
      "metadata": {
        "id": "Newa-7jHw1_P"
      },
      "source": [
        "## Calculate Unigram and Bigram Frequencies"
      ]
    },
    {
      "cell_type": "markdown",
      "metadata": {
        "id": "ZielayD3wKwO"
      },
      "source": [
        "### Positive Unigram Frequency"
      ]
    },
    {
      "cell_type": "code",
      "metadata": {
        "id": "YzJIrQj4p0D-"
      },
      "source": [
        "positive_train_unigram_freq = {}\n",
        "\n",
        "def countPositiveUnigramFrequency(row):\n",
        "  fdist = nltk.FreqDist(row[\"comment\"])\n",
        "  for k, v in fdist.items():\n",
        "    if k in positive_train_unigram_freq.keys():\n",
        "      positive_train_unigram_freq[k] += v\n",
        "    else:\n",
        "\t    positive_train_unigram_freq[k] = v"
      ],
      "execution_count": null,
      "outputs": []
    },
    {
      "cell_type": "code",
      "metadata": {
        "id": "dX451N-frm-U"
      },
      "source": [
        "positive_train.apply(countPositiveUnigramFrequency, axis =1);"
      ],
      "execution_count": null,
      "outputs": []
    },
    {
      "cell_type": "markdown",
      "metadata": {
        "id": "mj9KLdsEwEqQ"
      },
      "source": [
        "### Positive Bigram Frequency"
      ]
    },
    {
      "cell_type": "code",
      "metadata": {
        "id": "bG14-Ns7L5jj"
      },
      "source": [
        "positive_train_bigram_freq = {}\n",
        "\n",
        "#Count bigram frequencies in positive and negative training datasets\n",
        "def countPositiveBigramFrequency(row):\n",
        "  bgs = nltk.bigrams(row[\"comment\"])\n",
        "  #compute frequency distribution for all the bigrams in the text\n",
        "  fdist = nltk.FreqDist(bgs)\n",
        "  for k, v in fdist.items():\n",
        "    if k in positive_train_bigram_freq.keys():\n",
        "      positive_train_bigram_freq[k] += v\n",
        "    else:\n",
        "\t    positive_train_bigram_freq[k] = v"
      ],
      "execution_count": null,
      "outputs": []
    },
    {
      "cell_type": "code",
      "metadata": {
        "id": "KXpwv-0xlVh3"
      },
      "source": [
        "positive_train.apply(countPositiveBigramFrequency, axis = 1);"
      ],
      "execution_count": null,
      "outputs": []
    },
    {
      "cell_type": "markdown",
      "metadata": {
        "id": "SNdCQxKwwZ8O"
      },
      "source": [
        "### Negative Unigram Frequency"
      ]
    },
    {
      "cell_type": "code",
      "metadata": {
        "id": "bFBaSPmlruYW"
      },
      "source": [
        "negative_train_unigram_freq = {}\n",
        "\n",
        "def countNegativeUnigramFrequency(row):\n",
        "  fdist = nltk.FreqDist(row[\"comment\"])\n",
        "  for k, v in fdist.items():\n",
        "    if k in negative_train_unigram_freq.keys():\n",
        "      negative_train_unigram_freq[k] += v\n",
        "    else:\n",
        "\t    negative_train_unigram_freq[k] = v"
      ],
      "execution_count": null,
      "outputs": []
    },
    {
      "cell_type": "code",
      "metadata": {
        "id": "YcMzh2BIwnxX"
      },
      "source": [
        "negative_train.apply(countNegativeUnigramFrequency, axis = 1);"
      ],
      "execution_count": null,
      "outputs": []
    },
    {
      "cell_type": "markdown",
      "metadata": {
        "id": "cNEW6N7RwVfP"
      },
      "source": [
        "### Negative Bigram Frequency"
      ]
    },
    {
      "cell_type": "code",
      "metadata": {
        "id": "C3F6Jepvj7IE"
      },
      "source": [
        "negative_train_bigram_freq = {}\n",
        "\n",
        "#Count bigram frequencies in positive and negative training datasets\n",
        "def countNegativeBigramFrequency(row):\n",
        "  bgs = nltk.bigrams(row[\"comment\"])\n",
        "  #compute frequency distribution for all the bigrams in the text\n",
        "  fdist = nltk.FreqDist(bgs)\n",
        "  for k, v in fdist.items():\n",
        "    if k in negative_train_bigram_freq.keys():\n",
        "      negative_train_bigram_freq[k] += v\n",
        "    else:\n",
        "\t    negative_train_bigram_freq[k] = v"
      ],
      "execution_count": null,
      "outputs": []
    },
    {
      "cell_type": "code",
      "metadata": {
        "id": "cqVq4YpvmSOt"
      },
      "source": [
        "negative_train.apply(countNegativeBigramFrequency, axis = 1);"
      ],
      "execution_count": null,
      "outputs": []
    },
    {
      "cell_type": "markdown",
      "metadata": {
        "id": "WtLhlNzVdFH5"
      },
      "source": [
        "## Prediction"
      ]
    },
    {
      "cell_type": "code",
      "metadata": {
        "id": "0TUyY-nIimiV"
      },
      "source": [
        "# Calculate probability of being positive\n",
        "def calculatePositiveProbability(comment):\n",
        "  prob = 1\n",
        "  V = sum(positive_train_unigram_freq.values()) - len(positive_train)\n",
        "\n",
        "  bgs = nltk.bigrams(comment)\n",
        "\n",
        "  for bigram in list(bgs):\n",
        "    unigram_count = 0\n",
        "    bigram_count = 0\n",
        "\n",
        "    prob_item = 0\n",
        "\n",
        "    if bigram in positive_train_bigram_freq.keys():\n",
        "      bigram_count = positive_train_bigram_freq[bigram]\n",
        "    if bigram[0] in positive_train_unigram_freq.keys():\n",
        "      unigram_count = positive_train_unigram_freq[bigram[0]]\n",
        " \n",
        "    prob_item = (bigram_count + 1) / (unigram_count + V)\n",
        "    prob = prob * prob_item\n",
        "    \n",
        "  return prob"
      ],
      "execution_count": null,
      "outputs": []
    },
    {
      "cell_type": "code",
      "metadata": {
        "id": "8UMtJMXXiuxh"
      },
      "source": [
        "# Calculate probability of being negative\n",
        "def calculateNegativeProbability(comment):\n",
        "  prob = 1\n",
        "  V = sum(negative_train_unigram_freq.values()) - len(negative_train)\n",
        "\n",
        "  bgs = nltk.bigrams(comment)\n",
        "\n",
        "  for bigram in list(bgs):\n",
        "    unigram_count = 0\n",
        "    bigram_count = 0\n",
        "\n",
        "    prob_item = 0\n",
        "\n",
        "    if bigram in negative_train_bigram_freq.keys():\n",
        "      bigram_count = negative_train_bigram_freq[bigram]\n",
        "    if bigram[0] in negative_train_unigram_freq.keys():\n",
        "      unigram_count = negative_train_unigram_freq[bigram[0]]\n",
        " \n",
        "    prob_item = (bigram_count + 1) / (unigram_count + V)\n",
        "    prob = prob * prob_item\n",
        "\n",
        "  return prob"
      ],
      "execution_count": null,
      "outputs": []
    },
    {
      "cell_type": "code",
      "metadata": {
        "id": "7bjXmBsovI8E"
      },
      "source": [
        "def getPrediction(row):\n",
        "  positive_prob = calculatePositiveProbability(row[\"comment\"])\n",
        "  negative_prob = calculateNegativeProbability(row[\"comment\"])\n",
        "  return \"negative\" if negative_prob > positive_prob else \"positive\""
      ],
      "execution_count": null,
      "outputs": []
    },
    {
      "cell_type": "code",
      "metadata": {
        "id": "6qPPDW0eyZVj"
      },
      "source": [
        "positive_test[\"predicted\"] = positive_test.apply(getPrediction,axis=1)"
      ],
      "execution_count": null,
      "outputs": []
    },
    {
      "cell_type": "code",
      "metadata": {
        "id": "KHl0Ea7bvgap"
      },
      "source": [
        "negative_test[\"predicted\"] = negative_test.apply(getPrediction,axis=1);"
      ],
      "execution_count": null,
      "outputs": []
    },
    {
      "cell_type": "markdown",
      "metadata": {
        "id": "tEUcRrOYV6MA"
      },
      "source": [
        "## Model Evaluation using Perplexity"
      ]
    },
    {
      "cell_type": "code",
      "metadata": {
        "id": "jzmHzwkNWsnM"
      },
      "source": [
        "# Calculate unigram frequency in positive test dataset\n",
        "positive_test_unigram_freq = {}\n",
        "\n",
        "def countPositiveTestUnigramFrequency(row):\n",
        "  fdist = nltk.FreqDist(row[\"comment\"])\n",
        "  for k, v in fdist.items():\n",
        "    if k in positive_test_unigram_freq.keys():\n",
        "      positive_test_unigram_freq[k] += v\n",
        "    else:\n",
        "\t    positive_test_unigram_freq[k] = v\n",
        "\n",
        "positive_test.apply(countPositiveTestUnigramFrequency,axis=1);"
      ],
      "execution_count": null,
      "outputs": []
    },
    {
      "cell_type": "code",
      "metadata": {
        "id": "W3rN2l1stUY6"
      },
      "source": [
        "positive_test_bigram_freq = {}\n",
        "\n",
        "#Count bigram frequencies in positive and negative training datasets\n",
        "def countPositiveTestBigramFrequency(row):\n",
        "  bgs = nltk.bigrams(row[\"comment\"])\n",
        "  #compute frequency distribution for all the bigrams in the text\n",
        "  fdist = nltk.FreqDist(bgs)\n",
        "  for k, v in fdist.items():\n",
        "    if k in positive_test_bigram_freq.keys():\n",
        "      positive_test_bigram_freq[k] += v\n",
        "    else:\n",
        "\t    positive_test_bigram_freq[k] = v\n",
        "\n",
        "positive_test.apply(countPositiveTestBigramFrequency,axis=1);"
      ],
      "execution_count": null,
      "outputs": []
    },
    {
      "cell_type": "code",
      "metadata": {
        "id": "ExMlsFo1ZIzy"
      },
      "source": [
        "# Calculate unigram frequency in negative test dataset\n",
        "negative_test_unigram_freq = {}\n",
        "\n",
        "def countNegativeTestUnigramFrequency(row):\n",
        "  fdist = nltk.FreqDist(row[\"comment\"])\n",
        "  for k, v in fdist.items():\n",
        "    if k in negative_test_unigram_freq.keys():\n",
        "      negative_test_unigram_freq[k] += v\n",
        "    else:\n",
        "\t    negative_test_unigram_freq[k] = v\n",
        "\n",
        "negative_test.apply(countNegativeTestUnigramFrequency,axis=1);"
      ],
      "execution_count": null,
      "outputs": []
    },
    {
      "cell_type": "code",
      "metadata": {
        "id": "1Bm861XUtt65"
      },
      "source": [
        "negative_test_bigram_freq = {}\n",
        "\n",
        "#Count bigram frequencies in negative test datasets\n",
        "def countNegativeTestBigramFrequency(row):\n",
        "  bgs = nltk.bigrams(row[\"comment\"])\n",
        "  #compute frequency distribution for all the bigrams in the text\n",
        "  fdist = nltk.FreqDist(bgs)\n",
        "  for k, v in fdist.items():\n",
        "    if k in negative_test_bigram_freq.keys():\n",
        "      negative_test_bigram_freq[k] += v\n",
        "    else:\n",
        "\t    negative_test_bigram_freq[k] = v\n",
        "\n",
        "negative_test.apply(countNegativeTestBigramFrequency,axis=1);"
      ],
      "execution_count": null,
      "outputs": []
    },
    {
      "cell_type": "code",
      "metadata": {
        "id": "qBbSkInsVtWZ"
      },
      "source": [
        "# Calculate probabilities for positive test dataset\n",
        "def calculatePositiveTestProbability(comment):\n",
        "  prob = 1\n",
        "  # total number of word tokens in positive test dataset - total number of <s>\n",
        "  V = sum(positive_test_unigram_freq.values()) - len(positive_test)\n",
        "\n",
        "  bgs = nltk.bigrams(comment)\n",
        "\n",
        "  for bigram in list(bgs):\n",
        "    unigram_count = 0\n",
        "    bigram_count = 0\n",
        "\n",
        "    prob_item = 0\n",
        "\n",
        "    if bigram in positive_test_bigram_freq.keys():\n",
        "      bigram_count = positive_test_bigram_freq[bigram]\n",
        "    if bigram[0] in positive_test_unigram_freq.keys():\n",
        "      unigram_count = positive_test_unigram_freq[bigram[0]]\n",
        " \n",
        "    prob_item = (bigram_count + 1) / (unigram_count + V)\n",
        "    prob = prob * prob_item\n",
        "\n",
        "  return prob"
      ],
      "execution_count": null,
      "outputs": []
    },
    {
      "cell_type": "code",
      "metadata": {
        "id": "gmH8hKy1s2VS"
      },
      "source": [
        "def calculateNegativeTestProbability(comment):\n",
        "  prob = 1\n",
        "  # total number of word tokens in negative test dataset - total number of <s>\n",
        "  V = sum(negative_test_unigram_freq.values()) - len(negative_test)\n",
        "\n",
        "  bgs = nltk.bigrams(comment)\n",
        "\n",
        "  for bigram in list(bgs):\n",
        "    unigram_count = 0\n",
        "    bigram_count = 0\n",
        "\n",
        "    prob_item = 0\n",
        "\n",
        "    if bigram in negative_test_bigram_freq.keys():\n",
        "      bigram_count = negative_test_bigram_freq[bigram]\n",
        "    if bigram[0] in negative_test_unigram_freq.keys():\n",
        "      unigram_count = negative_test_unigram_freq[bigram[0]]\n",
        " \n",
        "    prob_item = (bigram_count + 1) / (unigram_count + V)\n",
        "    prob = prob * prob_item\n",
        "\n",
        "  return prob"
      ],
      "execution_count": null,
      "outputs": []
    },
    {
      "cell_type": "code",
      "metadata": {
        "colab": {
          "base_uri": "https://localhost:8080/"
        },
        "id": "_9QO5b6xMOU_",
        "outputId": "13e03b2d-9904-463c-965b-0141be211ed8"
      },
      "source": [
        "import numpy as np\n",
        "import math\n",
        "\n",
        "## calculate the log of the bigram probability of each word in the positive and negative test sets\n",
        "total_positive_prob_log = 0\n",
        "total_negative_prob_log = 0\n",
        "\n",
        "for comment in positive_test[\"comment\"]:\n",
        "  p_prob = calculatePositiveTestProbability(comment)\n",
        "  total_positive_prob_log = total_positive_prob_log + np.log(p_prob)\n",
        "\n",
        "for comment in negative_test[\"comment\"]:\n",
        "  n_prob = calculateNegativeTestProbability(comment)\n",
        "  total_negative_prob_log = total_negative_prob_log + np.log(n_prob)\n",
        "\n",
        "print(total_positive_prob_log,total_positive_prob_log)"
      ],
      "execution_count": null,
      "outputs": [
        {
          "output_type": "stream",
          "text": [
            "-2169.697980183959 -2169.697980183959\n"
          ],
          "name": "stdout"
        }
      ]
    },
    {
      "cell_type": "code",
      "metadata": {
        "id": "ot3Q1ocuOjGq"
      },
      "source": [
        "positive_e_power = total_positive_prob_log / sum(positive_test_unigram_freq.values())\n",
        "negative_e_power = total_negative_prob_log / sum(negative_test_unigram_freq.values())"
      ],
      "execution_count": null,
      "outputs": []
    },
    {
      "cell_type": "code",
      "metadata": {
        "colab": {
          "base_uri": "https://localhost:8080/"
        },
        "id": "QyDsLzPBwK4L",
        "outputId": "e6e52372-03a5-4633-900e-6be016adacf7"
      },
      "source": [
        "# Perplexity on test data\n",
        "positive_perplexity = 1 / math.exp(positive_e_power)\n",
        "negative_perplexity = 1 / math.exp(negative_e_power)\n",
        "print(positive_perplexity,negative_perplexity)"
      ],
      "execution_count": null,
      "outputs": [
        {
          "output_type": "stream",
          "text": [
            "140.10111607053304 139.086106422674\n"
          ],
          "name": "stdout"
        }
      ]
    }
  ]
}